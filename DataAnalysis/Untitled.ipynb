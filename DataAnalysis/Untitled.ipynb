{
 "cells": [
  {
   "cell_type": "code",
   "execution_count": 1,
   "metadata": {},
   "outputs": [
    {
     "name": "stdout",
     "output_type": "stream",
     "text": [
      "공작 ('예매율24.0%', '8,915명이 좋아요', '2018.08.08개봉')\n",
      "신과함께 인과 연 ('예매율23.8%', '20,436명이 좋아요', '2018.08.01개봉')\n",
      "맘마미아!2 ('예매율14.3%', '9,068명이 좋아요', '2018.08.08개봉')\n",
      "몬스터 호텔 3 ('예매율8.4%', '3,270명이 좋아요', '2018.08.08개봉')\n",
      "미션 임파서블: 폴아웃 ('예매율4.6%', '13,453명이 좋아요', '2018.07.25개봉')\n",
      "명탐정 코난: 제로의 집행인 ('예매율3.2%', '4,652명이 좋아요', '2018.08.08개봉')\n",
      "극장판 헬로카봇: 백악기 시대 ('예매율1.0%', '2,340명이 좋아요', '2018.08.01개봉')\n",
      "노인을 위한 나라는 없다 ('예매율0.7%', '2,105명이 좋아요', '2018.08.09개봉')\n",
      "어느 가족 ('예매율0.7%', '3,522명이 좋아요', '2018.07.26개봉')\n",
      "인크레더블 2 ('예매율0.4%', '11,192명이 좋아요', '2018.07.18개봉')\n",
      "캐롤 ('예매율0.2%', '11,182명이 좋아요', '2016.02.04개봉')\n",
      "더 스퀘어 ('예매율0.1%', '1,284명이 좋아요', '2018.08.02개봉')\n",
      "아이 엠 러브 ('예매율0.1%', '1,354명이 좋아요', '2018.07.26재개봉')\n",
      "신비아파트: 금빛 도깨비와 비밀의 동굴 ('예매율0.1%', '1,940명이 좋아요', '2018.07.25개봉')\n",
      "라라랜드 ('예매율0.0%', '30,669명이 좋아요', '2016.12.07개봉')\n",
      "비포 선라이즈 ('예매율0.0%', '4,755명이 좋아요', '2016.04.07재개봉')\n",
      "그녀 ('예매율0.0%', '5,417명이 좋아요', '2014.05.22개봉')\n",
      "킬링 디어 ('예매율0.0%', '3,860명이 좋아요', '2018.07.12개봉')\n",
      "메멘토 ('예매율0.0%', '1,621명이 좋아요', '2014.11.20재개봉')\n",
      "주피터스 문 ('예매율0.0%', '647명이 좋아요', '2018.08.02개봉')\n",
      "인랑 ('예매율0.0%', '9,221명이 좋아요', '2018.07.25개봉')\n",
      "500일의 썸머 ('예매율0.0%', '7,602명이 좋아요', '2010.01.21개봉')\n",
      "앤트맨과 와스프 ('예매율0.0%', '14,261명이 좋아요', '2018.07.04개봉')\n",
      "어벤져스: 인피니티 워 ('예매율0.0%', '44,243명이 좋아요', '2018.04.25개봉')\n",
      "나는 내일, 어제의 너와 만난다 ('예매율0.0%', '54명이 좋아요', '2017.10.12개봉')\n",
      "내 사랑 ('예매율0.0%', '12,048명이 좋아요', '2017.07.12개봉')\n",
      "러브레터 ('예매율0.0%', '5,059명이 좋아요', '2017.12.13재개봉')\n",
      "우리도 사랑일까 ('예매율0.0%', '62명이 좋아요', '2013.12.14재개봉')\n",
      "스카이스크래퍼 ('예매율0.0%', '3,471명이 좋아요', '2018.07.11개봉')\n",
      "변산 ('예매율0.0%', '3,231명이 좋아요', '2018.07.04개봉')\n",
      "빅샤크: 매직체인지 ('예매율0.0%', '421명이 좋아요', '2018.06.27개봉')\n",
      "토니스토리2: 고철왕국의 친구들 ('예매율0.0%', '165명이 좋아요', '2018.06.13개봉')\n",
      "이프 온리 ('예매율0.0%', '302명이 좋아요', '2017.11.29재개봉')\n"
     ]
    }
   ],
   "source": [
    "from bs4 import BeautifulSoup\n",
    "from selenium import webdriver\n",
    "import time\n",
    "\n",
    "#http://www.cgv.co.kr/movies/\n",
    "#contents > div.wrap-movie-chart > div.sect-movie-chart > ol:nth-child(2) > li:nth-child(1) > div.box-contents > a > strong\n",
    "#//*[@id=\"contents\"]/div[1]/div[3]/button\n",
    "\n",
    "# 동적 페이지(더보기) 포함 스크래핑\n",
    "url=\"http://www.cgv.co.kr/movies/\"\n",
    "\n",
    "# selenium drvier (chromedriver download)\n",
    "path=\"D:/DataAnalysis/chromedriver.exe\"\n",
    "driver=webdriver.Chrome(path)\n",
    "driver.get(url)\n",
    "time.sleep(3)\n",
    "\n",
    "# 더보기 누르기 // xpath_copy(chrome)\n",
    "driver.find_element_by_xpath(\"//*[@id='contents']/div[1]/div[3]/button\").click()\n",
    "time.sleep(1)\n",
    "\n",
    "# html 가져오기\n",
    "html=driver.page_source\n",
    "soup=BeautifulSoup(html, 'html.parser')\n",
    "#print(soup)\n",
    "\n",
    "# 영화정보 가져오기\n",
    "htmlList=soup.select(\"ol > li > div.box-contents\")\n",
    "res={}\n",
    "for i in range(len(htmlList)):\n",
    "    movie=htmlList[i].select_one(\"strong[class='title']\").text\n",
    "    per=htmlList[i].select_one(\"strong[class='percent']\").text\n",
    "    thumbsup=htmlList[i].select_one(\"span.count > strong > i\").text\n",
    "    release=htmlList[i].select_one(\"span.txt-info > strong\").text\n",
    "    res[movie]=(per, thumbsup+\"명이 좋아요\", release.strip().replace(\"\\n\",\"\").replace(\" \",\"\"))\n",
    "#print(res)\n",
    "\n",
    "# 출력(영화제목 // 예매율, 좋아요, 개봉일)\n",
    "for info in res:\n",
    "    print(info, res[info])"
   ]
  },
  {
   "cell_type": "code",
   "execution_count": null,
   "metadata": {
    "collapsed": true
   },
   "outputs": [],
   "source": []
  }
 ],
 "metadata": {
  "kernelspec": {
   "display_name": "Python 3",
   "language": "python",
   "name": "python3"
  },
  "language_info": {
   "codemirror_mode": {
    "name": "ipython",
    "version": 3
   },
   "file_extension": ".py",
   "mimetype": "text/x-python",
   "name": "python",
   "nbconvert_exporter": "python",
   "pygments_lexer": "ipython3",
   "version": "3.6.6"
  }
 },
 "nbformat": 4,
 "nbformat_minor": 2
}
